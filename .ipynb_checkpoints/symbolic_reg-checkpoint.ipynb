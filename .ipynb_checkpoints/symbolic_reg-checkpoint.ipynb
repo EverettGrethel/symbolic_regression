{
 "cells": [
  {
   "cell_type": "code",
   "execution_count": 1,
   "id": "a4859750-dfbd-4b82-95b6-7cf0b03dcb81",
   "metadata": {},
   "outputs": [],
   "source": [
    "import numpy as np\n",
    "import os\n",
    "import sys\n",
    "from pysr import PySRRegressor\n",
    "from sympy import *\n",
    "from sklearn.model_selection import train_test_split\n",
    "from sklearn.metrics import mean_squared_error"
   ]
  },
  {
   "cell_type": "code",
   "execution_count": 2,
   "id": "b90de65e-0265-408d-983a-47028fdc3cd9",
   "metadata": {},
   "outputs": [],
   "source": [
    "COUNTER_FILENAME = os.path.expanduser(\"../bigan/model_counter.txt\")\n",
    "global MODEL_ID\n",
    "\n",
    "# Adjust printing view dimensions\n",
    "np.set_printoptions(threshold=sys.maxsize, linewidth=300)\n",
    "\n",
    "def retrieve_model_id():\n",
    "    global MODEL_ID\n",
    "    try:\n",
    "        with open(COUNTER_FILENAME, 'r') as f:\n",
    "            count = f.read()\n",
    "            MODEL_ID = count\n",
    "    except FileNotFoundError:\n",
    "        print('New counter file.')\n",
    "        with open(COUNTER_FILENAME, 'w') as f:\n",
    "            count = '0'\n",
    "            f.write(count)\n",
    "            MODEL_ID = count\n",
    "\n",
    "            \n",
    "retrieve_model_id()\n",
    "\n",
    "LOAD_PATH =  r'..\\bigan\\data\\activations\\ae_{}'.format(MODEL_ID)\n",
    "params = np.load(r'{}\\params.npy'.format(LOAD_PATH))\n",
    "activs = np.load(r'{}\\activs.npy'.format(LOAD_PATH))\n",
    "losses = np.load(r'{}\\losses.npy'.format(LOAD_PATH))\n",
    "\n",
    "# Remove inactive neurons\n",
    "activs = np.delete(activs, 1, 1)\n",
    "activs = np.delete(activs, 2, 1)\n",
    "\n",
    "X = params\n",
    "y = activs\n",
    "\n",
    "X_train, X_test, y_train, y_test = train_test_split(X, y, test_size=0.15, random_state=14)"
   ]
  },
  {
   "cell_type": "code",
   "execution_count": 4,
   "id": "f09baac1-88de-4c8e-9da0-c0cf35ec7eb5",
   "metadata": {},
   "outputs": [],
   "source": [
    "model = PySRRegressor(\n",
    "    model_selection=\"best\",  # Result is mix of simplicity+accuracy\n",
    "    niterations=40,\n",
    "    binary_operators=[\n",
    "        \"+\", \n",
    "        \"-\", \n",
    "        \"*\", \n",
    "        \"/\", \n",
    "    ],\n",
    "    unary_operators=[\n",
    "        \"cos\",\n",
    "        \"exp\",\n",
    "        \"sin\",\n",
    "        \"log\",\n",
    "    ],\n",
    "    extra_sympy_mappings={\n",
    "        \"inv\": lambda x: 1 / x,\n",
    "        \"sqrt_abs\": lambda x: sqrt(Abs(x)),\n",
    "        \"sq_mult\": lambda x, y: (x**2) * y,\n",
    "        \"sq\": lambda x: x**2,\n",
    "        \"quartic\": lambda x: x**4,\n",
    "        \"pi\": lambda x: pi * x,\n",
    "    },\n",
    "    loss=\"loss(x, y) = (x - y)^2\",\n",
    ")"
   ]
  },
  {
   "cell_type": "code",
   "execution_count": 5,
   "id": "1feca7e5-7948-4f17-838d-672a0a674d21",
   "metadata": {},
   "outputs": [
    {
     "name": "stderr",
     "output_type": "stream",
     "text": [
      "C:\\Users\\evere\\anaconda3\\envs\\pysr\\lib\\site-packages\\pysr\\sr.py:1225: UserWarning: Note: it looks like you are running in Jupyter. The progress bar will be turned off.\n",
      "  warnings.warn(\n"
     ]
    },
    {
     "data": {
      "text/html": [
       "<style>#sk-container-id-1 {color: black;background-color: white;}#sk-container-id-1 pre{padding: 0;}#sk-container-id-1 div.sk-toggleable {background-color: white;}#sk-container-id-1 label.sk-toggleable__label {cursor: pointer;display: block;width: 100%;margin-bottom: 0;padding: 0.3em;box-sizing: border-box;text-align: center;}#sk-container-id-1 label.sk-toggleable__label-arrow:before {content: \"▸\";float: left;margin-right: 0.25em;color: #696969;}#sk-container-id-1 label.sk-toggleable__label-arrow:hover:before {color: black;}#sk-container-id-1 div.sk-estimator:hover label.sk-toggleable__label-arrow:before {color: black;}#sk-container-id-1 div.sk-toggleable__content {max-height: 0;max-width: 0;overflow: hidden;text-align: left;background-color: #f0f8ff;}#sk-container-id-1 div.sk-toggleable__content pre {margin: 0.2em;color: black;border-radius: 0.25em;background-color: #f0f8ff;}#sk-container-id-1 input.sk-toggleable__control:checked~div.sk-toggleable__content {max-height: 200px;max-width: 100%;overflow: auto;}#sk-container-id-1 input.sk-toggleable__control:checked~label.sk-toggleable__label-arrow:before {content: \"▾\";}#sk-container-id-1 div.sk-estimator input.sk-toggleable__control:checked~label.sk-toggleable__label {background-color: #d4ebff;}#sk-container-id-1 div.sk-label input.sk-toggleable__control:checked~label.sk-toggleable__label {background-color: #d4ebff;}#sk-container-id-1 input.sk-hidden--visually {border: 0;clip: rect(1px 1px 1px 1px);clip: rect(1px, 1px, 1px, 1px);height: 1px;margin: -1px;overflow: hidden;padding: 0;position: absolute;width: 1px;}#sk-container-id-1 div.sk-estimator {font-family: monospace;background-color: #f0f8ff;border: 1px dotted black;border-radius: 0.25em;box-sizing: border-box;margin-bottom: 0.5em;}#sk-container-id-1 div.sk-estimator:hover {background-color: #d4ebff;}#sk-container-id-1 div.sk-parallel-item::after {content: \"\";width: 100%;border-bottom: 1px solid gray;flex-grow: 1;}#sk-container-id-1 div.sk-label:hover label.sk-toggleable__label {background-color: #d4ebff;}#sk-container-id-1 div.sk-serial::before {content: \"\";position: absolute;border-left: 1px solid gray;box-sizing: border-box;top: 0;bottom: 0;left: 50%;z-index: 0;}#sk-container-id-1 div.sk-serial {display: flex;flex-direction: column;align-items: center;background-color: white;padding-right: 0.2em;padding-left: 0.2em;position: relative;}#sk-container-id-1 div.sk-item {position: relative;z-index: 1;}#sk-container-id-1 div.sk-parallel {display: flex;align-items: stretch;justify-content: center;background-color: white;position: relative;}#sk-container-id-1 div.sk-item::before, #sk-container-id-1 div.sk-parallel-item::before {content: \"\";position: absolute;border-left: 1px solid gray;box-sizing: border-box;top: 0;bottom: 0;left: 50%;z-index: -1;}#sk-container-id-1 div.sk-parallel-item {display: flex;flex-direction: column;z-index: 1;position: relative;background-color: white;}#sk-container-id-1 div.sk-parallel-item:first-child::after {align-self: flex-end;width: 50%;}#sk-container-id-1 div.sk-parallel-item:last-child::after {align-self: flex-start;width: 50%;}#sk-container-id-1 div.sk-parallel-item:only-child::after {width: 0;}#sk-container-id-1 div.sk-dashed-wrapped {border: 1px dashed gray;margin: 0 0.4em 0.5em 0.4em;box-sizing: border-box;padding-bottom: 0.4em;background-color: white;}#sk-container-id-1 div.sk-label label {font-family: monospace;font-weight: bold;display: inline-block;line-height: 1.2em;}#sk-container-id-1 div.sk-label-container {text-align: center;}#sk-container-id-1 div.sk-container {/* jupyter's `normalize.less` sets `[hidden] { display: none; }` but bootstrap.min.css set `[hidden] { display: none !important; }` so we also need the `!important` here to be able to override the default hidden behavior on the sphinx rendered scikit-learn.org. See: https://github.com/scikit-learn/scikit-learn/issues/21755 */display: inline-block !important;position: relative;}#sk-container-id-1 div.sk-text-repr-fallback {display: none;}</style><div id=\"sk-container-id-1\" class=\"sk-top-container\"><div class=\"sk-text-repr-fallback\"><pre>PySRRegressor.equations_ = [\n",
       "[\n",
       "\t   pick  score equation      loss  complexity\n",
       "\t0  &gt;&gt;&gt;&gt;    0.0       x2  0.000865           1\n",
       "], [\n",
       "\t    pick     score                                           equation  \\\n",
       "\t0         0.000000                                          16.607132   \n",
       "\t1         0.112958                                    (x1 / 2.638185)   \n",
       "\t2         0.039545                            ((0.4180515 - x2) * x1)   \n",
       "\t3         0.102538                  ((x1 * 0.30002308) - log_abs(x2))   \n",
       "\t4         0.275715                (cos(log_abs(x3 / 0.6730079)) * x1)   \n",
       "\t5         0.125020           exp(cos(sin(log_abs(x3))) * log_abs(x1))   \n",
       "\t6         0.286426       ((cos(log_abs(x3)) - (x2 * 11.059732)) * x1)   \n",
       "\t7         0.097620   ((sin(cos(log_abs(x3))) - (x2 * 9.649282)) * x1)   \n",
       "\t8         0.155590  ((cos(log_abs(x3) + 0.12970714) - (x2 * 7.5068...   \n",
       "\t9         0.009589  ((cos(log_abs(x3 / 0.82600296)) - (x2 * log_ab...   \n",
       "\t10  &gt;&gt;&gt;&gt;  0.554116  exp(((cos(log_abs(x3)) - (x2 / 0.18738931)) * ...   \n",
       "\t11        0.246727  exp(((sin(cos(log_abs(x3))) - (x2 / 0.18738931...   \n",
       "\t12        0.004516  exp(((sin(cos(log_abs(x3))) - sin(x2 / 0.18738...   \n",
       "\t13        0.022361  exp(((sin(cos(log_abs(x3))) - (x2 / 0.18738931...   \n",
       "\t14        0.003234  exp(((sin(cos(log_abs(x3))) - sin(x2 / 0.18738...   \n",
       "\t15        0.016587  exp((cos(sin(log_abs(x3 - (x1 * -2.1891682))))...   \n",
       "\t16        0.002636  exp((cos(sin(log_abs(x3 - (x1 * -2.1891682))))...   \n",
       "\t17        0.016989  exp(((sin(cos(log_abs(x3))) - sin(x2 / 0.18738...   \n",
       "\t\n",
       "\t         loss  complexity  \n",
       "\t0   90.712430           1  \n",
       "\t1   72.369060           3  \n",
       "\t2   66.865920           5  \n",
       "\t3   60.349407           6  \n",
       "\t4   45.806980           7  \n",
       "\t5   40.423720           8  \n",
       "\t6   30.355883           9  \n",
       "\t7   27.532598          10  \n",
       "\t8   23.565416          11  \n",
       "\t9   23.340528          12  \n",
       "\t10  13.410996          13  \n",
       "\t11  10.478732          14  \n",
       "\t12  10.431518          15  \n",
       "\t13  10.200847          16  \n",
       "\t14  10.167914          17  \n",
       "\t15  10.000649          18  \n",
       "\t16   9.974325          19  \n",
       "\t17   9.806300          20  \n",
       "]]</pre><b>In a Jupyter environment, please rerun this cell to show the HTML representation or trust the notebook. <br />On GitHub, the HTML representation is unable to render, please try loading this page with nbviewer.org.</b></div><div class=\"sk-container\" hidden><div class=\"sk-item\"><div class=\"sk-estimator sk-toggleable\"><input class=\"sk-toggleable__control sk-hidden--visually\" id=\"sk-estimator-id-1\" type=\"checkbox\" checked><label for=\"sk-estimator-id-1\" class=\"sk-toggleable__label sk-toggleable__label-arrow\">PySRRegressor</label><div class=\"sk-toggleable__content\"><pre>PySRRegressor.equations_ = [\n",
       "[\n",
       "\t   pick  score equation      loss  complexity\n",
       "\t0  &gt;&gt;&gt;&gt;    0.0       x2  0.000865           1\n",
       "], [\n",
       "\t    pick     score                                           equation  \\\n",
       "\t0         0.000000                                          16.607132   \n",
       "\t1         0.112958                                    (x1 / 2.638185)   \n",
       "\t2         0.039545                            ((0.4180515 - x2) * x1)   \n",
       "\t3         0.102538                  ((x1 * 0.30002308) - log_abs(x2))   \n",
       "\t4         0.275715                (cos(log_abs(x3 / 0.6730079)) * x1)   \n",
       "\t5         0.125020           exp(cos(sin(log_abs(x3))) * log_abs(x1))   \n",
       "\t6         0.286426       ((cos(log_abs(x3)) - (x2 * 11.059732)) * x1)   \n",
       "\t7         0.097620   ((sin(cos(log_abs(x3))) - (x2 * 9.649282)) * x1)   \n",
       "\t8         0.155590  ((cos(log_abs(x3) + 0.12970714) - (x2 * 7.5068...   \n",
       "\t9         0.009589  ((cos(log_abs(x3 / 0.82600296)) - (x2 * log_ab...   \n",
       "\t10  &gt;&gt;&gt;&gt;  0.554116  exp(((cos(log_abs(x3)) - (x2 / 0.18738931)) * ...   \n",
       "\t11        0.246727  exp(((sin(cos(log_abs(x3))) - (x2 / 0.18738931...   \n",
       "\t12        0.004516  exp(((sin(cos(log_abs(x3))) - sin(x2 / 0.18738...   \n",
       "\t13        0.022361  exp(((sin(cos(log_abs(x3))) - (x2 / 0.18738931...   \n",
       "\t14        0.003234  exp(((sin(cos(log_abs(x3))) - sin(x2 / 0.18738...   \n",
       "\t15        0.016587  exp((cos(sin(log_abs(x3 - (x1 * -2.1891682))))...   \n",
       "\t16        0.002636  exp((cos(sin(log_abs(x3 - (x1 * -2.1891682))))...   \n",
       "\t17        0.016989  exp(((sin(cos(log_abs(x3))) - sin(x2 / 0.18738...   \n",
       "\t\n",
       "\t         loss  complexity  \n",
       "\t0   90.712430           1  \n",
       "\t1   72.369060           3  \n",
       "\t2   66.865920           5  \n",
       "\t3   60.349407           6  \n",
       "\t4   45.806980           7  \n",
       "\t5   40.423720           8  \n",
       "\t6   30.355883           9  \n",
       "\t7   27.532598          10  \n",
       "\t8   23.565416          11  \n",
       "\t9   23.340528          12  \n",
       "\t10  13.410996          13  \n",
       "\t11  10.478732          14  \n",
       "\t12  10.431518          15  \n",
       "\t13  10.200847          16  \n",
       "\t14  10.167914          17  \n",
       "\t15  10.000649          18  \n",
       "\t16   9.974325          19  \n",
       "\t17   9.806300          20  \n",
       "]]</pre></div></div></div></div></div>"
      ],
      "text/plain": [
       "PySRRegressor.equations_ = [\n",
       "[\n",
       "\t   pick  score equation      loss  complexity\n",
       "\t0  >>>>    0.0       x2  0.000865           1\n",
       "], [\n",
       "\t    pick     score                                           equation  \\\n",
       "\t0         0.000000                                          16.607132   \n",
       "\t1         0.112958                                    (x1 / 2.638185)   \n",
       "\t2         0.039545                            ((0.4180515 - x2) * x1)   \n",
       "\t3         0.102538                  ((x1 * 0.30002308) - log_abs(x2))   \n",
       "\t4         0.275715                (cos(log_abs(x3 / 0.6730079)) * x1)   \n",
       "\t5         0.125020           exp(cos(sin(log_abs(x3))) * log_abs(x1))   \n",
       "\t6         0.286426       ((cos(log_abs(x3)) - (x2 * 11.059732)) * x1)   \n",
       "\t7         0.097620   ((sin(cos(log_abs(x3))) - (x2 * 9.649282)) * x1)   \n",
       "\t8         0.155590  ((cos(log_abs(x3) + 0.12970714) - (x2 * 7.5068...   \n",
       "\t9         0.009589  ((cos(log_abs(x3 / 0.82600296)) - (x2 * log_ab...   \n",
       "\t10  >>>>  0.554116  exp(((cos(log_abs(x3)) - (x2 / 0.18738931)) * ...   \n",
       "\t11        0.246727  exp(((sin(cos(log_abs(x3))) - (x2 / 0.18738931...   \n",
       "\t12        0.004516  exp(((sin(cos(log_abs(x3))) - sin(x2 / 0.18738...   \n",
       "\t13        0.022361  exp(((sin(cos(log_abs(x3))) - (x2 / 0.18738931...   \n",
       "\t14        0.003234  exp(((sin(cos(log_abs(x3))) - sin(x2 / 0.18738...   \n",
       "\t15        0.016587  exp((cos(sin(log_abs(x3 - (x1 * -2.1891682))))...   \n",
       "\t16        0.002636  exp((cos(sin(log_abs(x3 - (x1 * -2.1891682))))...   \n",
       "\t17        0.016989  exp(((sin(cos(log_abs(x3))) - sin(x2 / 0.18738...   \n",
       "\t\n",
       "\t         loss  complexity  \n",
       "\t0   90.712430           1  \n",
       "\t1   72.369060           3  \n",
       "\t2   66.865920           5  \n",
       "\t3   60.349407           6  \n",
       "\t4   45.806980           7  \n",
       "\t5   40.423720           8  \n",
       "\t6   30.355883           9  \n",
       "\t7   27.532598          10  \n",
       "\t8   23.565416          11  \n",
       "\t9   23.340528          12  \n",
       "\t10  13.410996          13  \n",
       "\t11  10.478732          14  \n",
       "\t12  10.431518          15  \n",
       "\t13  10.200847          16  \n",
       "\t14  10.167914          17  \n",
       "\t15  10.000649          18  \n",
       "\t16   9.974325          19  \n",
       "\t17   9.806300          20  \n",
       "]]"
      ]
     },
     "execution_count": 5,
     "metadata": {},
     "output_type": "execute_result"
    }
   ],
   "source": [
    "model.fit(X_train, y_train)"
   ]
  },
  {
   "cell_type": "code",
   "execution_count": 6,
   "id": "e789bcc6-1457-4b5d-9fe5-74e07be5d71e",
   "metadata": {},
   "outputs": [
    {
     "data": {
      "text/plain": [
       "5.236920305722326"
      ]
     },
     "execution_count": 6,
     "metadata": {},
     "output_type": "execute_result"
    }
   ],
   "source": [
    "y_hat = model.predict(X_test)\n",
    "mean_squared_error(y_test, y_hat)"
   ]
  },
  {
   "cell_type": "code",
   "execution_count": 11,
   "id": "ba5fc447-ba70-4dfa-8a59-f97112a9500c",
   "metadata": {},
   "outputs": [
    {
     "data": {
      "text/plain": [
       "['x_{2}',\n",
       " '1.86 e^{\\\\left(- 5.34 x_{2} + \\\\cos{\\\\left(\\\\log{\\\\left(\\\\left|{x_{3}}\\\\right| \\\\right)} \\\\right)}\\\\right) \\\\log{\\\\left(\\\\left|{x_{1}}\\\\right| \\\\right)}}']"
      ]
     },
     "execution_count": 11,
     "metadata": {},
     "output_type": "execute_result"
    }
   ],
   "source": [
    "model.latex()"
   ]
  }
 ],
 "metadata": {
  "kernelspec": {
   "display_name": "Python [conda env:pysr] *",
   "language": "python",
   "name": "conda-env-pysr-py"
  },
  "language_info": {
   "codemirror_mode": {
    "name": "ipython",
    "version": 3
   },
   "file_extension": ".py",
   "mimetype": "text/x-python",
   "name": "python",
   "nbconvert_exporter": "python",
   "pygments_lexer": "ipython3",
   "version": "3.10.6"
  }
 },
 "nbformat": 4,
 "nbformat_minor": 5
}

{
 "cells": [
  {
   "cell_type": "code",
   "execution_count": 1,
   "id": "a4859750-dfbd-4b82-95b6-7cf0b03dcb81",
   "metadata": {},
   "outputs": [],
   "source": [
    "import numpy as np\n",
    "import os\n",
    "import sys\n",
    "from pysr import PySRRegressor\n",
    "from sympy import *\n",
    "from sklearn.model_selection import train_test_split\n",
    "from sklearn.metrics import mean_squared_error"
   ]
  },
  {
   "cell_type": "code",
   "execution_count": 2,
   "id": "b90de65e-0265-408d-983a-47028fdc3cd9",
   "metadata": {},
   "outputs": [],
   "source": [
    "COUNTER_FILENAME = os.path.expanduser(\"../bigan/model_counter.txt\")\n",
    "global MODEL_ID\n",
    "\n",
    "# Adjust printing view dimensions\n",
    "np.set_printoptions(threshold=sys.maxsize, linewidth=300)\n",
    "\n",
    "def retrieve_model_id():\n",
    "    global MODEL_ID\n",
    "    try:\n",
    "        with open(COUNTER_FILENAME, 'r') as f:\n",
    "            count = f.read()\n",
    "            MODEL_ID = count\n",
    "    except FileNotFoundError:\n",
    "        print('New counter file.')\n",
    "        with open(COUNTER_FILENAME, 'w') as f:\n",
    "            count = '0'\n",
    "            f.write(count)\n",
    "            MODEL_ID = count\n",
    "\n",
    "            \n",
    "retrieve_model_id()\n",
    "\n",
    "LOAD_PATH =  r'..\\bigan\\data\\activations\\ae_{}'.format(MODEL_ID)\n",
    "params = np.load(r'{}\\params.npy'.format(LOAD_PATH))\n",
    "activs = np.load(r'{}\\activs.npy'.format(LOAD_PATH))\n",
    "losses = np.load(r'{}\\losses.npy'.format(LOAD_PATH))\n",
    "\n",
    "# Remove inactive neurons\n",
    "activs = np.delete(activs, 1, 1)\n",
    "activs = np.delete(activs, 2, 1)\n",
    "\n",
    "X = params\n",
    "y = activs\n",
    "\n",
    "X_train, X_test, y_train, y_test = train_test_split(X, y, test_size=0.15, random_state=14)"
   ]
  },
  {
   "cell_type": "code",
   "execution_count": 3,
   "id": "f09baac1-88de-4c8e-9da0-c0cf35ec7eb5",
   "metadata": {},
   "outputs": [],
   "source": [
    "model = PySRRegressor(\n",
    "    model_selection=\"best\",  # Result is mix of simplicity+accuracy\n",
    "    niterations=40,\n",
    "    binary_operators=[\n",
    "        \"+\", \n",
    "        \"-\", \n",
    "        \"*\", \n",
    "        \"/\", \n",
    "    ],\n",
    "    unary_operators=[\n",
    "        \"cos\",\n",
    "        \"exp\",\n",
    "        \"sin\",\n",
    "        \"log\",\n",
    "    ],\n",
    "    extra_sympy_mappings={\n",
    "        \"inv\": lambda x: 1 / x,\n",
    "        \"sqrt_abs\": lambda x: sqrt(Abs(x)),\n",
    "        \"sq_mult\": lambda x, y: (x**2) * y,\n",
    "        \"sq\": lambda x: x**2,\n",
    "        \"quartic\": lambda x: x**4,\n",
    "    },\n",
    "    loss=\"loss(x, y) = (x - y)^2\",\n",
    ")"
   ]
  },
  {
   "cell_type": "code",
   "execution_count": 4,
   "id": "1feca7e5-7948-4f17-838d-672a0a674d21",
   "metadata": {},
   "outputs": [
    {
     "name": "stderr",
     "output_type": "stream",
     "text": [
      "C:\\Users\\evere\\anaconda3\\envs\\pysr\\lib\\site-packages\\pysr\\sr.py:1225: UserWarning: Note: it looks like you are running in Jupyter. The progress bar will be turned off.\n",
      "  warnings.warn(\n"
     ]
    },
    {
     "data": {
      "text/html": [
       "<style>#sk-container-id-1 {color: black;background-color: white;}#sk-container-id-1 pre{padding: 0;}#sk-container-id-1 div.sk-toggleable {background-color: white;}#sk-container-id-1 label.sk-toggleable__label {cursor: pointer;display: block;width: 100%;margin-bottom: 0;padding: 0.3em;box-sizing: border-box;text-align: center;}#sk-container-id-1 label.sk-toggleable__label-arrow:before {content: \"▸\";float: left;margin-right: 0.25em;color: #696969;}#sk-container-id-1 label.sk-toggleable__label-arrow:hover:before {color: black;}#sk-container-id-1 div.sk-estimator:hover label.sk-toggleable__label-arrow:before {color: black;}#sk-container-id-1 div.sk-toggleable__content {max-height: 0;max-width: 0;overflow: hidden;text-align: left;background-color: #f0f8ff;}#sk-container-id-1 div.sk-toggleable__content pre {margin: 0.2em;color: black;border-radius: 0.25em;background-color: #f0f8ff;}#sk-container-id-1 input.sk-toggleable__control:checked~div.sk-toggleable__content {max-height: 200px;max-width: 100%;overflow: auto;}#sk-container-id-1 input.sk-toggleable__control:checked~label.sk-toggleable__label-arrow:before {content: \"▾\";}#sk-container-id-1 div.sk-estimator input.sk-toggleable__control:checked~label.sk-toggleable__label {background-color: #d4ebff;}#sk-container-id-1 div.sk-label input.sk-toggleable__control:checked~label.sk-toggleable__label {background-color: #d4ebff;}#sk-container-id-1 input.sk-hidden--visually {border: 0;clip: rect(1px 1px 1px 1px);clip: rect(1px, 1px, 1px, 1px);height: 1px;margin: -1px;overflow: hidden;padding: 0;position: absolute;width: 1px;}#sk-container-id-1 div.sk-estimator {font-family: monospace;background-color: #f0f8ff;border: 1px dotted black;border-radius: 0.25em;box-sizing: border-box;margin-bottom: 0.5em;}#sk-container-id-1 div.sk-estimator:hover {background-color: #d4ebff;}#sk-container-id-1 div.sk-parallel-item::after {content: \"\";width: 100%;border-bottom: 1px solid gray;flex-grow: 1;}#sk-container-id-1 div.sk-label:hover label.sk-toggleable__label {background-color: #d4ebff;}#sk-container-id-1 div.sk-serial::before {content: \"\";position: absolute;border-left: 1px solid gray;box-sizing: border-box;top: 0;bottom: 0;left: 50%;z-index: 0;}#sk-container-id-1 div.sk-serial {display: flex;flex-direction: column;align-items: center;background-color: white;padding-right: 0.2em;padding-left: 0.2em;position: relative;}#sk-container-id-1 div.sk-item {position: relative;z-index: 1;}#sk-container-id-1 div.sk-parallel {display: flex;align-items: stretch;justify-content: center;background-color: white;position: relative;}#sk-container-id-1 div.sk-item::before, #sk-container-id-1 div.sk-parallel-item::before {content: \"\";position: absolute;border-left: 1px solid gray;box-sizing: border-box;top: 0;bottom: 0;left: 50%;z-index: -1;}#sk-container-id-1 div.sk-parallel-item {display: flex;flex-direction: column;z-index: 1;position: relative;background-color: white;}#sk-container-id-1 div.sk-parallel-item:first-child::after {align-self: flex-end;width: 50%;}#sk-container-id-1 div.sk-parallel-item:last-child::after {align-self: flex-start;width: 50%;}#sk-container-id-1 div.sk-parallel-item:only-child::after {width: 0;}#sk-container-id-1 div.sk-dashed-wrapped {border: 1px dashed gray;margin: 0 0.4em 0.5em 0.4em;box-sizing: border-box;padding-bottom: 0.4em;background-color: white;}#sk-container-id-1 div.sk-label label {font-family: monospace;font-weight: bold;display: inline-block;line-height: 1.2em;}#sk-container-id-1 div.sk-label-container {text-align: center;}#sk-container-id-1 div.sk-container {/* jupyter's `normalize.less` sets `[hidden] { display: none; }` but bootstrap.min.css set `[hidden] { display: none !important; }` so we also need the `!important` here to be able to override the default hidden behavior on the sphinx rendered scikit-learn.org. See: https://github.com/scikit-learn/scikit-learn/issues/21755 */display: inline-block !important;position: relative;}#sk-container-id-1 div.sk-text-repr-fallback {display: none;}</style><div id=\"sk-container-id-1\" class=\"sk-top-container\"><div class=\"sk-text-repr-fallback\"><pre>PySRRegressor.equations_ = [\n",
       "[\n",
       "\t   pick      score                         equation          loss  complexity\n",
       "\t0         0.000000                               x3  1.489076e+06           1\n",
       "\t1        14.933817                          sin(x3)  4.866793e-01           2\n",
       "\t2  &gt;&gt;&gt;&gt;   5.073537  ((1.2042814 / x0) / -1.1023118)  1.194032e-07           5\n",
       "], [\n",
       "\t    pick         score                                           equation  \\\n",
       "\t0         0.000000e+00                                          16.606995   \n",
       "\t1         1.129579e-01                                   (x1 * 0.3790391)   \n",
       "\t2         1.042859e-01                  ((x3 * -0.03259458) - -55.977577)   \n",
       "\t3         9.263943e-02              ((0.5710069 - (x2 * 7.4914274)) * x1)   \n",
       "\t4         2.106986e-03           ((0.5710069 - sin(x2 * 7.4914274)) * x1)   \n",
       "\t5         2.257353e-01  ((((x1 / 0.12562343) - x3) * 0.03102481) - -44...   \n",
       "\t6         3.058034e-01  ((((x1 / (x2 + 0.043693945)) - x3) * 0.0227828...   \n",
       "\t7   &gt;&gt;&gt;&gt;  2.094901e-01  ((((x1 / ((x2 * 3.326335) + 0.051082987)) - x3...   \n",
       "\t8         7.211463e-07  ((((x1 / ((x2 * 3.326335) + 0.051082987)) - x3...   \n",
       "\t9         3.226704e-02  (((((x1 - -4.423186) / ((x2 * 3.4527943) + 0.0...   \n",
       "\t10        1.709452e-02  (((((x1 - log_abs(x2)) / ((x2 * 3.1516595) + 0...   \n",
       "\t11        4.765648e-05  (((((x1 - log_abs(x2)) / ((x2 * 3.1516595) + s...   \n",
       "\t12        3.277033e-03  (((((x1 - log_abs(x2 * 0.33252007)) / ((x2 * 3...   \n",
       "\t13        6.219277e-03  ((((((x1 / ((x2 * 3.326335) + 0.051082987)) - ...   \n",
       "\t\n",
       "\t         loss  complexity  \n",
       "\t0   90.712440           1  \n",
       "\t1   72.369050           3  \n",
       "\t2   58.745050           5  \n",
       "\t3   48.809650           7  \n",
       "\t4   48.706917           8  \n",
       "\t5   38.864674           9  \n",
       "\t6   21.083250          11  \n",
       "\t7   13.866816          13  \n",
       "\t8   13.866806          14  \n",
       "\t9   13.426507          15  \n",
       "\t10  13.198938          16  \n",
       "\t11  13.198309          17  \n",
       "\t12  13.155129          18  \n",
       "\t13  13.073567          19  \n",
       "]]</pre><b>In a Jupyter environment, please rerun this cell to show the HTML representation or trust the notebook. <br />On GitHub, the HTML representation is unable to render, please try loading this page with nbviewer.org.</b></div><div class=\"sk-container\" hidden><div class=\"sk-item\"><div class=\"sk-estimator sk-toggleable\"><input class=\"sk-toggleable__control sk-hidden--visually\" id=\"sk-estimator-id-1\" type=\"checkbox\" checked><label for=\"sk-estimator-id-1\" class=\"sk-toggleable__label sk-toggleable__label-arrow\">PySRRegressor</label><div class=\"sk-toggleable__content\"><pre>PySRRegressor.equations_ = [\n",
       "[\n",
       "\t   pick      score                         equation          loss  complexity\n",
       "\t0         0.000000                               x3  1.489076e+06           1\n",
       "\t1        14.933817                          sin(x3)  4.866793e-01           2\n",
       "\t2  &gt;&gt;&gt;&gt;   5.073537  ((1.2042814 / x0) / -1.1023118)  1.194032e-07           5\n",
       "], [\n",
       "\t    pick         score                                           equation  \\\n",
       "\t0         0.000000e+00                                          16.606995   \n",
       "\t1         1.129579e-01                                   (x1 * 0.3790391)   \n",
       "\t2         1.042859e-01                  ((x3 * -0.03259458) - -55.977577)   \n",
       "\t3         9.263943e-02              ((0.5710069 - (x2 * 7.4914274)) * x1)   \n",
       "\t4         2.106986e-03           ((0.5710069 - sin(x2 * 7.4914274)) * x1)   \n",
       "\t5         2.257353e-01  ((((x1 / 0.12562343) - x3) * 0.03102481) - -44...   \n",
       "\t6         3.058034e-01  ((((x1 / (x2 + 0.043693945)) - x3) * 0.0227828...   \n",
       "\t7   &gt;&gt;&gt;&gt;  2.094901e-01  ((((x1 / ((x2 * 3.326335) + 0.051082987)) - x3...   \n",
       "\t8         7.211463e-07  ((((x1 / ((x2 * 3.326335) + 0.051082987)) - x3...   \n",
       "\t9         3.226704e-02  (((((x1 - -4.423186) / ((x2 * 3.4527943) + 0.0...   \n",
       "\t10        1.709452e-02  (((((x1 - log_abs(x2)) / ((x2 * 3.1516595) + 0...   \n",
       "\t11        4.765648e-05  (((((x1 - log_abs(x2)) / ((x2 * 3.1516595) + s...   \n",
       "\t12        3.277033e-03  (((((x1 - log_abs(x2 * 0.33252007)) / ((x2 * 3...   \n",
       "\t13        6.219277e-03  ((((((x1 / ((x2 * 3.326335) + 0.051082987)) - ...   \n",
       "\t\n",
       "\t         loss  complexity  \n",
       "\t0   90.712440           1  \n",
       "\t1   72.369050           3  \n",
       "\t2   58.745050           5  \n",
       "\t3   48.809650           7  \n",
       "\t4   48.706917           8  \n",
       "\t5   38.864674           9  \n",
       "\t6   21.083250          11  \n",
       "\t7   13.866816          13  \n",
       "\t8   13.866806          14  \n",
       "\t9   13.426507          15  \n",
       "\t10  13.198938          16  \n",
       "\t11  13.198309          17  \n",
       "\t12  13.155129          18  \n",
       "\t13  13.073567          19  \n",
       "]]</pre></div></div></div></div></div>"
      ],
      "text/plain": [
       "PySRRegressor.equations_ = [\n",
       "[\n",
       "\t   pick      score                         equation          loss  complexity\n",
       "\t0         0.000000                               x3  1.489076e+06           1\n",
       "\t1        14.933817                          sin(x3)  4.866793e-01           2\n",
       "\t2  >>>>   5.073537  ((1.2042814 / x0) / -1.1023118)  1.194032e-07           5\n",
       "], [\n",
       "\t    pick         score                                           equation  \\\n",
       "\t0         0.000000e+00                                          16.606995   \n",
       "\t1         1.129579e-01                                   (x1 * 0.3790391)   \n",
       "\t2         1.042859e-01                  ((x3 * -0.03259458) - -55.977577)   \n",
       "\t3         9.263943e-02              ((0.5710069 - (x2 * 7.4914274)) * x1)   \n",
       "\t4         2.106986e-03           ((0.5710069 - sin(x2 * 7.4914274)) * x1)   \n",
       "\t5         2.257353e-01  ((((x1 / 0.12562343) - x3) * 0.03102481) - -44...   \n",
       "\t6         3.058034e-01  ((((x1 / (x2 + 0.043693945)) - x3) * 0.0227828...   \n",
       "\t7   >>>>  2.094901e-01  ((((x1 / ((x2 * 3.326335) + 0.051082987)) - x3...   \n",
       "\t8         7.211463e-07  ((((x1 / ((x2 * 3.326335) + 0.051082987)) - x3...   \n",
       "\t9         3.226704e-02  (((((x1 - -4.423186) / ((x2 * 3.4527943) + 0.0...   \n",
       "\t10        1.709452e-02  (((((x1 - log_abs(x2)) / ((x2 * 3.1516595) + 0...   \n",
       "\t11        4.765648e-05  (((((x1 - log_abs(x2)) / ((x2 * 3.1516595) + s...   \n",
       "\t12        3.277033e-03  (((((x1 - log_abs(x2 * 0.33252007)) / ((x2 * 3...   \n",
       "\t13        6.219277e-03  ((((((x1 / ((x2 * 3.326335) + 0.051082987)) - ...   \n",
       "\t\n",
       "\t         loss  complexity  \n",
       "\t0   90.712440           1  \n",
       "\t1   72.369050           3  \n",
       "\t2   58.745050           5  \n",
       "\t3   48.809650           7  \n",
       "\t4   48.706917           8  \n",
       "\t5   38.864674           9  \n",
       "\t6   21.083250          11  \n",
       "\t7   13.866816          13  \n",
       "\t8   13.866806          14  \n",
       "\t9   13.426507          15  \n",
       "\t10  13.198938          16  \n",
       "\t11  13.198309          17  \n",
       "\t12  13.155129          18  \n",
       "\t13  13.073567          19  \n",
       "]]"
      ]
     },
     "execution_count": 4,
     "metadata": {},
     "output_type": "execute_result"
    }
   ],
   "source": [
    "model.fit(X_train, y_train)"
   ]
  },
  {
   "cell_type": "code",
   "execution_count": 5,
   "id": "e789bcc6-1457-4b5d-9fe5-74e07be5d71e",
   "metadata": {},
   "outputs": [
    {
     "data": {
      "text/plain": [
       "5.026095587908345"
      ]
     },
     "execution_count": 5,
     "metadata": {},
     "output_type": "execute_result"
    }
   ],
   "source": [
    "y_hat = model.predict(X_test)\n",
    "mean_squared_error(y_test, y_hat)"
   ]
  },
  {
   "cell_type": "code",
   "execution_count": 10,
   "id": "ba5fc447-ba70-4dfa-8a59-f97112a9500c",
   "metadata": {},
   "outputs": [
    {
     "data": {
      "text/plain": [
       "['- \\\\frac{1.09}{x_{0}}',\n",
       " '\\\\frac{0.0302 x_{1}}{3.33 x_{2} + 0.0511} - 0.0302 x_{3} + 42.5']"
      ]
     },
     "execution_count": 10,
     "metadata": {},
     "output_type": "execute_result"
    }
   ],
   "source": [
    "model.latex()"
   ]
  },
  {
   "cell_type": "code",
   "execution_count": null,
   "id": "cc84d8c1-94bb-422a-953d-6283ff9f0521",
   "metadata": {},
   "outputs": [],
   "source": []
  }
 ],
 "metadata": {
  "kernelspec": {
   "display_name": "Python [conda env:pysr] *",
   "language": "python",
   "name": "conda-env-pysr-py"
  },
  "language_info": {
   "codemirror_mode": {
    "name": "ipython",
    "version": 3
   },
   "file_extension": ".py",
   "mimetype": "text/x-python",
   "name": "python",
   "nbconvert_exporter": "python",
   "pygments_lexer": "ipython3",
   "version": "3.10.6"
  }
 },
 "nbformat": 4,
 "nbformat_minor": 5
}
